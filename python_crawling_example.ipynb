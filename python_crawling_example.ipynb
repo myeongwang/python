{
 "cells": [
  {
   "cell_type": "markdown",
   "id": "4b3b4643",
   "metadata": {},
   "source": [
    "# Crawling"
   ]
  },
  {
   "cell_type": "markdown",
   "id": "cb9e3909",
   "metadata": {},
   "source": [
    "### (1) 라이브러리 설치"
   ]
  },
  {
   "cell_type": "code",
   "execution_count": 3,
   "id": "dff3d99a",
   "metadata": {
    "collapsed": true
   },
   "outputs": [
    {
     "name": "stdout",
     "output_type": "stream",
     "text": [
      "Requirement already satisfied: selenium in /Users/inseop/opt/anaconda3/lib/python3.9/site-packages (4.12.0)\n",
      "Requirement already satisfied: trio~=0.17 in /Users/inseop/opt/anaconda3/lib/python3.9/site-packages (from selenium) (0.22.0)\n",
      "Requirement already satisfied: urllib3[socks]<3,>=1.26 in /Users/inseop/opt/anaconda3/lib/python3.9/site-packages (from selenium) (1.26.11)\n",
      "Requirement already satisfied: trio-websocket~=0.9 in /Users/inseop/opt/anaconda3/lib/python3.9/site-packages (from selenium) (0.9.2)\n",
      "Requirement already satisfied: certifi>=2021.10.8 in /Users/inseop/opt/anaconda3/lib/python3.9/site-packages (from selenium) (2022.9.24)\n",
      "Requirement already satisfied: attrs>=19.2.0 in /Users/inseop/opt/anaconda3/lib/python3.9/site-packages (from trio~=0.17->selenium) (21.4.0)\n",
      "Requirement already satisfied: sniffio in /Users/inseop/opt/anaconda3/lib/python3.9/site-packages (from trio~=0.17->selenium) (1.2.0)\n",
      "Requirement already satisfied: sortedcontainers in /Users/inseop/opt/anaconda3/lib/python3.9/site-packages (from trio~=0.17->selenium) (2.4.0)\n",
      "Requirement already satisfied: idna in /Users/inseop/opt/anaconda3/lib/python3.9/site-packages (from trio~=0.17->selenium) (3.3)\n",
      "Requirement already satisfied: exceptiongroup>=1.0.0rc9 in /Users/inseop/opt/anaconda3/lib/python3.9/site-packages (from trio~=0.17->selenium) (1.1.0)\n",
      "Requirement already satisfied: outcome in /Users/inseop/opt/anaconda3/lib/python3.9/site-packages (from trio~=0.17->selenium) (1.2.0)\n",
      "Requirement already satisfied: async-generator>=1.9 in /Users/inseop/opt/anaconda3/lib/python3.9/site-packages (from trio~=0.17->selenium) (1.10)\n",
      "Requirement already satisfied: wsproto>=0.14 in /Users/inseop/opt/anaconda3/lib/python3.9/site-packages (from trio-websocket~=0.9->selenium) (1.2.0)\n",
      "Requirement already satisfied: PySocks!=1.5.7,<2.0,>=1.5.6 in /Users/inseop/opt/anaconda3/lib/python3.9/site-packages (from urllib3[socks]<3,>=1.26->selenium) (1.7.1)\n",
      "Requirement already satisfied: h11<1,>=0.9.0 in /Users/inseop/opt/anaconda3/lib/python3.9/site-packages (from wsproto>=0.14->trio-websocket~=0.9->selenium) (0.14.0)\n",
      "Note: you may need to restart the kernel to use updated packages.\n"
     ]
    }
   ],
   "source": [
    "pip install selenium"
   ]
  },
  {
   "cell_type": "code",
   "execution_count": 4,
   "id": "4c4d7f11",
   "metadata": {
    "collapsed": true
   },
   "outputs": [
    {
     "name": "stdout",
     "output_type": "stream",
     "text": [
      "Requirement already satisfied: webdriver-manager in /Users/inseop/opt/anaconda3/lib/python3.9/site-packages (4.0.0)\n",
      "Requirement already satisfied: packaging in /Users/inseop/opt/anaconda3/lib/python3.9/site-packages (from webdriver-manager) (21.3)\n",
      "Requirement already satisfied: requests in /Users/inseop/opt/anaconda3/lib/python3.9/site-packages (from webdriver-manager) (2.28.1)\n",
      "Requirement already satisfied: python-dotenv in /Users/inseop/opt/anaconda3/lib/python3.9/site-packages (from webdriver-manager) (1.0.0)\n",
      "Requirement already satisfied: pyparsing!=3.0.5,>=2.0.2 in /Users/inseop/opt/anaconda3/lib/python3.9/site-packages (from packaging->webdriver-manager) (3.0.9)\n",
      "Requirement already satisfied: idna<4,>=2.5 in /Users/inseop/opt/anaconda3/lib/python3.9/site-packages (from requests->webdriver-manager) (3.3)\n",
      "Requirement already satisfied: urllib3<1.27,>=1.21.1 in /Users/inseop/opt/anaconda3/lib/python3.9/site-packages (from requests->webdriver-manager) (1.26.11)\n",
      "Requirement already satisfied: charset-normalizer<3,>=2 in /Users/inseop/opt/anaconda3/lib/python3.9/site-packages (from requests->webdriver-manager) (2.0.4)\n",
      "Requirement already satisfied: certifi>=2017.4.17 in /Users/inseop/opt/anaconda3/lib/python3.9/site-packages (from requests->webdriver-manager) (2022.9.24)\n",
      "Note: you may need to restart the kernel to use updated packages.\n"
     ]
    }
   ],
   "source": [
    "pip install webdriver-manager"
   ]
  },
  {
   "cell_type": "markdown",
   "id": "7a8b3539",
   "metadata": {},
   "source": [
    "### (2) 라이브러리 import"
   ]
  },
  {
   "cell_type": "code",
   "execution_count": 5,
   "id": "271d8d67",
   "metadata": {},
   "outputs": [],
   "source": [
    "from selenium import webdriver\n",
    "from webdriver_manager.chrome import ChromeDriverManager\n",
    "\n",
    "ChromeDriverManager().install()\n",
    "browser = webdriver.Chrome()\n",
    "\n",
    "# selenium -> chromedriver -> chrome"
   ]
  },
  {
   "cell_type": "code",
   "execution_count": 6,
   "id": "f47506fa",
   "metadata": {},
   "outputs": [
    {
     "data": {
      "text/plain": [
       "'NAVER'"
      ]
     },
     "execution_count": 6,
     "metadata": {},
     "output_type": "execute_result"
    }
   ],
   "source": [
    "browser.get('https://www.naver.com')\n",
    "browser.title"
   ]
  },
  {
   "cell_type": "code",
   "execution_count": 7,
   "id": "1c88592b",
   "metadata": {},
   "outputs": [],
   "source": [
    "from selenium.webdriver.common.by import By\n",
    "browser.find_element(By.ID, 'query').click()"
   ]
  },
  {
   "cell_type": "code",
   "execution_count": 8,
   "id": "1c650160",
   "metadata": {},
   "outputs": [],
   "source": [
    "browser.find_element(By.ID, 'query').send_keys(\"날씨\")"
   ]
  },
  {
   "cell_type": "code",
   "execution_count": 9,
   "id": "c8c5b089",
   "metadata": {},
   "outputs": [],
   "source": [
    "browser.find_element(By.ID, 'search-btn').click() # 검색 아이콘 클릭"
   ]
  },
  {
   "cell_type": "code",
   "execution_count": 14,
   "id": "69388726",
   "metadata": {},
   "outputs": [
    {
     "data": {
      "text/plain": [
       "'17.4°'"
      ]
     },
     "execution_count": 14,
     "metadata": {},
     "output_type": "execute_result"
    }
   ],
   "source": [
    "word = browser.find_element(By.CLASS_NAME, 'temperature_text').text\n",
    "word.split(\"\\n\")[1]"
   ]
  },
  {
   "cell_type": "code",
   "execution_count": 15,
   "id": "3bfefdd9",
   "metadata": {},
   "outputs": [
    {
     "data": {
      "text/plain": [
       "<selenium.webdriver.remote.webelement.WebElement (session=\"683f09e9715ba06e2f1ac89efc5b7ff7\", element=\"C8DAA18ED85D58BD4CA9292211ADA3C9_element_434\")>"
      ]
     },
     "execution_count": 15,
     "metadata": {},
     "output_type": "execute_result"
    }
   ],
   "source": [
    "browser.find_element(By.CLASS_NAME, 'temperature_text')"
   ]
  },
  {
   "cell_type": "code",
   "execution_count": 16,
   "id": "08585215",
   "metadata": {},
   "outputs": [
    {
     "data": {
      "text/plain": [
       "'°'"
      ]
     },
     "execution_count": 16,
     "metadata": {},
     "output_type": "execute_result"
    }
   ],
   "source": [
    "browser.find_element(By.CLASS_NAME, 'temperature_text').find_element(By.CLASS_NAME, 'celsius').text"
   ]
  },
  {
   "cell_type": "code",
   "execution_count": 21,
   "id": "d74a7f50",
   "metadata": {},
   "outputs": [
    {
     "data": {
      "text/plain": [
       "('17.7°', '76%', '2.3m/s')"
      ]
     },
     "execution_count": 21,
     "metadata": {},
     "output_type": "execute_result"
    }
   ],
   "source": [
    "# 체감, 습도, 풍향 각각의 변수로 저장해봅시다.\n",
    "data = browser.find_element(By.CLASS_NAME, 'summary_list').text\n",
    "data.split(\" \")\n",
    "\n",
    "temp = data.split(\" \")[1]\n",
    "hum = data.split(\" \")[3]\n",
    "wind = data.split(\" \")[5]\n",
    "temp, hum, wind"
   ]
  },
  {
   "cell_type": "code",
   "execution_count": 23,
   "id": "7fdff362",
   "metadata": {},
   "outputs": [
    {
     "data": {
      "text/plain": [
       "<selenium.webdriver.remote.webelement.WebElement (session=\"683f09e9715ba06e2f1ac89efc5b7ff7\", element=\"C8DAA18ED85D58BD4CA9292211ADA3C9_element_436\")>"
      ]
     },
     "execution_count": 23,
     "metadata": {},
     "output_type": "execute_result"
    }
   ],
   "source": [
    "browser.find_element(By.CLASS_NAME, 'summary_list')"
   ]
  },
  {
   "cell_type": "code",
   "execution_count": 24,
   "id": "2507c2e1",
   "metadata": {},
   "outputs": [
    {
     "data": {
      "text/plain": [
       "'17.7°'"
      ]
     },
     "execution_count": 24,
     "metadata": {},
     "output_type": "execute_result"
    }
   ],
   "source": [
    "browser.find_element(By.CLASS_NAME, 'summary_list').find_element(By.TAG_NAME, 'dd').text"
   ]
  },
  {
   "cell_type": "code",
   "execution_count": 28,
   "id": "47d8848e",
   "metadata": {
    "scrolled": true
   },
   "outputs": [
    {
     "name": "stdout",
     "output_type": "stream",
     "text": [
      "17.7°\n",
      "76%\n",
      "2.3m/s\n"
     ]
    }
   ],
   "source": [
    "weather_list = browser.find_element(By.CLASS_NAME, 'summary_list').find_elements(By.TAG_NAME, 'dd')\n",
    "\n",
    "for i in weather_list:\n",
    "    print(i.text)"
   ]
  },
  {
   "cell_type": "code",
   "execution_count": 29,
   "id": "d3d5f1da",
   "metadata": {},
   "outputs": [],
   "source": [
    "# 환율 페이지로 이동\n",
    "url = 'https://search.naver.com/search.naver?sm=tab_hty.top&where=nexearch&query=%ED%99%98%EC%9C%A8&oquery=%EB%82%A0%EC%94%A8&tqi=if%2BkOdprvOssslYQTuwssssssJw-426956'\n",
    "browser.get(url)"
   ]
  },
  {
   "cell_type": "code",
   "execution_count": 38,
   "id": "187ae835",
   "metadata": {},
   "outputs": [
    {
     "data": {
      "text/plain": [
       "'(-0.37%)'"
      ]
     },
     "execution_count": 38,
     "metadata": {},
     "output_type": "execute_result"
    }
   ],
   "source": [
    "browser.find_element(By.CLASS_NAME, 'spt_con').find_elements(By.TAG_NAME, 'em')[1].text"
   ]
  },
  {
   "cell_type": "code",
   "execution_count": null,
   "id": "b19491a4",
   "metadata": {},
   "outputs": [],
   "source": [
    "# 크롤링 실습\n",
    "# slack, telegram으로 메시지 보내는 것\n",
    "# 엑셀로 데이터 저장\n",
    "\n",
    "# tts"
   ]
  }
 ],
 "metadata": {
  "kernelspec": {
   "display_name": "Python 3",
   "language": "python",
   "name": "python3"
  },
  "language_info": {
   "codemirror_mode": {
    "name": "ipython",
    "version": 3
   },
   "file_extension": ".py",
   "mimetype": "text/x-python",
   "name": "python",
   "nbconvert_exporter": "python",
   "pygments_lexer": "ipython3",
   "version": "3.8.8"
  }
 },
 "nbformat": 4,
 "nbformat_minor": 5
}
