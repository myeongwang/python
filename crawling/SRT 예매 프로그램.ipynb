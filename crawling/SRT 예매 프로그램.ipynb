{
 "cells": [
  {
   "cell_type": "markdown",
   "id": "15ae90da",
   "metadata": {},
   "source": [
    "###  프로그램으로 개인이 예매하는 것은 문제가 안됨 -> 그러나, 코드를 판매하거나 표를 사서 비싸게 파는 행위는 불법\n"
   ]
  },
  {
   "cell_type": "code",
   "execution_count": 3,
   "id": "a0645a08",
   "metadata": {},
   "outputs": [],
   "source": [
    "#library import\n",
    "from selenium import webdriver\n",
    "from selenium.webdriver.common.by import By"
   ]
  },
  {
   "cell_type": "code",
   "execution_count": 4,
   "id": "fd195f37",
   "metadata": {},
   "outputs": [],
   "source": [
    "browser = webdriver.Chrome()"
   ]
  },
  {
   "cell_type": "code",
   "execution_count": 5,
   "id": "d6dc6c3d",
   "metadata": {},
   "outputs": [],
   "source": [
    "url='https://etk.srail.kr/cmc/01/selectLoginForm.do?pageId=TK0701000000'\n",
    "browser.get(url)"
   ]
  },
  {
   "cell_type": "code",
   "execution_count": 7,
   "id": "bfdd792a",
   "metadata": {},
   "outputs": [],
   "source": [
    "browser.find_element(By.ID,'srchDvCd3').click()"
   ]
  },
  {
   "cell_type": "code",
   "execution_count": 8,
   "id": "e25b2cf4",
   "metadata": {},
   "outputs": [],
   "source": [
    "browser.find_element(By.ID,'srchDvNm03').click() #ID\n",
    "browser.find_element(By.ID,'srchDvNm03').send_keys('01029997748')"
   ]
  },
  {
   "cell_type": "code",
   "execution_count": 9,
   "id": "d90ff3a4",
   "metadata": {},
   "outputs": [],
   "source": [
    "browser.find_element(By.ID,'hmpgPwdCphd03').click()#PW\n",
    "browser.find_element(By.ID,'hmpgPwdCphd03').send_keys('sksmscjswoek12!M')"
   ]
  },
  {
   "cell_type": "code",
   "execution_count": 10,
   "id": "ab46e1d1",
   "metadata": {},
   "outputs": [],
   "source": [
    "browser.find_element(By.XPATH,'//*[@id=\"login-form\"]/fieldset/div[1]/div[1]/div[4]/div/div[2]/input').click()#확인"
   ]
  },
  {
   "cell_type": "code",
   "execution_count": 11,
   "id": "050bd7fd",
   "metadata": {},
   "outputs": [],
   "source": [
    "#예매 조회 페이지\n",
    "url='https://etk.srail.kr/hpg/hra/01/selectScheduleList.do?pageId=TK0101010000'\n",
    "browser.get(url)"
   ]
  },
  {
   "cell_type": "code",
   "execution_count": 14,
   "id": "5c81bccb",
   "metadata": {},
   "outputs": [],
   "source": [
    "#내가 가고자하는 도착 지역 변경\n",
    "browser.find_element(By.ID,'arvRsStnCdNm').click()\n",
    "browser.find_element(By.ID,'arvRsStnCdNm').clear() # default 값 부산 사라짐 \n"
   ]
  },
  {
   "cell_type": "code",
   "execution_count": 15,
   "id": "9b81504b",
   "metadata": {},
   "outputs": [],
   "source": [
    "browser.find_element(By.ID,'arvRsStnCdNm').send_keys(\"동대구\")\n"
   ]
  },
  {
   "cell_type": "code",
   "execution_count": 16,
   "id": "1a3ccd0b",
   "metadata": {},
   "outputs": [],
   "source": [
    "#22시로 변경\n",
    "browser.find_element(By.XPATH,'//*[@id=\"dptTm\"]').send_keys('22')\n"
   ]
  },
  {
   "cell_type": "code",
   "execution_count": 17,
   "id": "fe41920d",
   "metadata": {},
   "outputs": [],
   "source": [
    "browser.find_element(By.ID,'search_top_tag').find_element(By.TAG_NAME,'input').click()\n"
   ]
  },
  {
   "cell_type": "code",
   "execution_count": null,
   "id": "fd30a696",
   "metadata": {},
   "outputs": [],
   "source": [
    "#xpath와 full xpath의 차이점: 상대경로 vs 절대경로 #상대경로가 더 짧고 좋음\n",
    "\n",
    "#xpath: 싱글 데이터. class: 멀티데이터 "
   ]
  },
  {
   "cell_type": "code",
   "execution_count": 20,
   "id": "82ffac23",
   "metadata": {},
   "outputs": [
    {
     "name": "stdout",
     "output_type": "stream",
     "text": [
      "1번째 반복 중 입니다.\n",
      "2번째 반복 중 입니다.\n",
      "3번째 반복 중 입니다.\n",
      "4번째 반복 중 입니다.\n",
      "5번째 반복 중 입니다.\n",
      "6번째 반복 중 입니다.\n",
      "7번째 반복 중 입니다.\n",
      "8번째 반복 중 입니다.\n",
      "9번째 반복 중 입니다.\n",
      "10번째 반복 중 입니다.\n",
      "11번째 반복 중 입니다.\n",
      "12번째 반복 중 입니다.\n",
      "13번째 반복 중 입니다.\n",
      "14번째 반복 중 입니다.\n",
      "15번째 반복 중 입니다.\n",
      "16번째 반복 중 입니다.\n",
      "17번째 반복 중 입니다.\n",
      "18번째 반복 중 입니다.\n",
      "19번째 반복 중 입니다.\n"
     ]
    },
    {
     "ename": "KeyboardInterrupt",
     "evalue": "",
     "output_type": "error",
     "traceback": [
      "\u001b[0;31m---------------------------------------------------------------------------\u001b[0m",
      "\u001b[0;31mKeyboardInterrupt\u001b[0m                         Traceback (most recent call last)",
      "\u001b[0;32m<ipython-input-20-b9591451277d>\u001b[0m in \u001b[0;36m<module>\u001b[0;34m\u001b[0m\n\u001b[1;32m      8\u001b[0m     \u001b[0;32mif\u001b[0m \u001b[0melem\u001b[0m\u001b[0;34m.\u001b[0m\u001b[0mtext\u001b[0m \u001b[0;34m==\u001b[0m\u001b[0;34m'매진'\u001b[0m\u001b[0;34m:\u001b[0m\u001b[0;34m\u001b[0m\u001b[0;34m\u001b[0m\u001b[0m\n\u001b[1;32m      9\u001b[0m         \u001b[0mbrowser\u001b[0m\u001b[0;34m.\u001b[0m\u001b[0mrefresh\u001b[0m\u001b[0;34m(\u001b[0m\u001b[0;34m)\u001b[0m\u001b[0;34m\u001b[0m\u001b[0;34m\u001b[0m\u001b[0m\n\u001b[0;32m---> 10\u001b[0;31m         \u001b[0mtime\u001b[0m\u001b[0;34m.\u001b[0m\u001b[0msleep\u001b[0m\u001b[0;34m(\u001b[0m\u001b[0;36m1\u001b[0m\u001b[0;34m)\u001b[0m\u001b[0;34m\u001b[0m\u001b[0;34m\u001b[0m\u001b[0m\n\u001b[0m\u001b[1;32m     11\u001b[0m     \u001b[0;32melse\u001b[0m\u001b[0;34m:\u001b[0m\u001b[0;34m\u001b[0m\u001b[0;34m\u001b[0m\u001b[0m\n\u001b[1;32m     12\u001b[0m         \u001b[0melem\u001b[0m\u001b[0;34m.\u001b[0m\u001b[0mclick\u001b[0m\u001b[0;34m(\u001b[0m\u001b[0;34m)\u001b[0m\u001b[0;34m\u001b[0m\u001b[0;34m\u001b[0m\u001b[0m\n",
      "\u001b[0;31mKeyboardInterrupt\u001b[0m: "
     ]
    }
   ],
   "source": [
    "import time\n",
    "num=0\n",
    "while True:\n",
    "    num+=1\n",
    "\n",
    "    elem =browser.find_element(By.XPATH,'//*[@id=\"result-form\"]/fieldset/div[6]/table/tbody/tr[1]/td[6]/a/span')\n",
    "    print(f\"{num}번째 반복 중 입니다.\")\n",
    "    if elem.text =='매진':\n",
    "        browser.refresh()\n",
    "        time.sleep(1)\n",
    "    else:\n",
    "        elem.click()\n",
    "        break\n",
    "else:\n",
    "    print(\"예매 버튼 클릭 완료!! -> 슬랙으로 메시지 보내기.\") #슬랙으로 메시지 오면 결제 끝!\n",
    "    "
   ]
  },
  {
   "cell_type": "code",
   "execution_count": null,
   "id": "19201002",
   "metadata": {},
   "outputs": [],
   "source": []
  }
 ],
 "metadata": {
  "kernelspec": {
   "display_name": "Python 3",
   "language": "python",
   "name": "python3"
  },
  "language_info": {
   "codemirror_mode": {
    "name": "ipython",
    "version": 3
   },
   "file_extension": ".py",
   "mimetype": "text/x-python",
   "name": "python",
   "nbconvert_exporter": "python",
   "pygments_lexer": "ipython3",
   "version": "3.8.8"
  }
 },
 "nbformat": 4,
 "nbformat_minor": 5
}
