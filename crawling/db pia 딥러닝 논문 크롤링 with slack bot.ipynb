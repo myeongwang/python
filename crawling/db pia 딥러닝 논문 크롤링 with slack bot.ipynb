{
 "cells": [
  {
   "cell_type": "code",
   "execution_count": 9,
   "id": "7cc20b55",
   "metadata": {},
   "outputs": [],
   "source": [
    "from selenium import webdriver\n",
    "from selenium.webdriver.common.by import By\n",
    "import pandas as pd"
   ]
  },
  {
   "cell_type": "code",
   "execution_count": 10,
   "id": "75eb4604",
   "metadata": {},
   "outputs": [],
   "source": [
    "browser = webdriver.Chrome() # 24시간 계속 돌아가는 서버가 필요하구나.."
   ]
  },
  {
   "cell_type": "code",
   "execution_count": 11,
   "id": "9c4a4dea",
   "metadata": {},
   "outputs": [],
   "source": [
    "keyword = \"deep learning\"\n",
    "url = 'https://www.dbpia.co.kr/search/topSearch?searchOption=all&query={}'\n",
    "final_url = url.format(keyword)\n",
    "browser.get(final_url)"
   ]
  },
  {
   "cell_type": "code",
   "execution_count": 12,
   "id": "b9c2a973",
   "metadata": {},
   "outputs": [],
   "source": [
    "browser.find_element(By.ID,'sortByDateButton').click()"
   ]
  },
  {
   "cell_type": "code",
   "execution_count": 14,
   "id": "41e63724",
   "metadata": {},
   "outputs": [],
   "source": [
    "date_elements = browser.find_elements(By.XPATH, \"//*[contains(text(), '2023.10')]\")\n"
   ]
  },
  {
   "cell_type": "code",
   "execution_count": null,
   "id": "bbd4e6e1",
   "metadata": {},
   "outputs": [],
   "source": [
    "//*[@id=\"searchResultList\"]/article[1]/article/section[1]/span[1]"
   ]
  }
 ],
 "metadata": {
  "kernelspec": {
   "display_name": "Python 3",
   "language": "python",
   "name": "python3"
  },
  "language_info": {
   "codemirror_mode": {
    "name": "ipython",
    "version": 3
   },
   "file_extension": ".py",
   "mimetype": "text/x-python",
   "name": "python",
   "nbconvert_exporter": "python",
   "pygments_lexer": "ipython3",
   "version": "3.8.8"
  }
 },
 "nbformat": 4,
 "nbformat_minor": 5
}
